{
 "cells": [
  {
   "cell_type": "markdown",
   "metadata": {},
   "source": [
    "Correção da Lista de Exercícios\n",
    "\n",
    "1. Fazer um procedimento chamado preenche lista que preencha uma lista passada por parametro até que seja digitado ponto.\n",
    "2. Fazer um procedimento chamado exibi lista que exiba os elementos da lista passada por parametro.\n",
    "3. Sabanedo que a função len() do Python retorna a quantidade de elementos de uma lista. Faça uma função chamada conta_elementos(l) que tenha o mesmo efeito.\n",
    "4. Sabemos que a função index do Python retorna o indice do elemento passado por parametro. Faça uma função parecida chamada retorna_indice com a melhoria de retornar -1 caso o elemento não seja encontrado.\n",
    "5. Sabemos que a função count() retorna a quantidade de um elemento especifico. Faça uma função chamada busca_elemento que tenha o mesmo efeito.\n",
    "6. Fazer uma função chamada conta_inteiro(l) que conte quantos elementos inteiros existem em uma lista.\n",
    "7. Fazer uma função chamada contra_string(l) que conte quantos elementos strings existem em uma lista.\n",
    "8. Fazer uma função chamada contra_boolean(l) que conte quantos elementos logicos existem em uma lista.\n",
    "9. Fazer uma função chamada contra_float(l) que conte quantos elementos float existem em uma lista.\n",
    "10. Fazer um procedimento chamado copia_int(lista1, lista2) que verifica na lista1 se o dado é inteiro e copie para a lista2 este dado convertido em inteiro."
   ]
  },
  {
   "cell_type": "code",
   "execution_count": 5,
   "metadata": {},
   "outputs": [],
   "source": [
    "# ex1\n",
    "def preenche_lista(l: list) -> None:\n",
    "    while True:\n",
    "        elem = input(\"Digite um elemento: \")\n",
    "        if elem != '.':\n",
    "            l.append(elem)\n",
    "        else:\n",
    "            break\n"
   ]
  },
  {
   "cell_type": "code",
   "execution_count": 3,
   "metadata": {},
   "outputs": [],
   "source": [
    "# ex2\n",
    "def exibe_lista(l: list) -> None:\n",
    "    print(\"Exibindo a lista\")\n",
    "    for indice, elem in enumerate(l):\n",
    "        print(f\"Elemento: {elem}\")"
   ]
  },
  {
   "cell_type": "code",
   "execution_count": null,
   "metadata": {},
   "outputs": [],
   "source": [
    "# ex3\n",
    "def conta_elementos(l: list) -> int:\n",
    "    qtd = 0\n",
    "    for elem in l:\n",
    "        qtd += 1\n",
    "    return qtd"
   ]
  },
  {
   "cell_type": "code",
   "execution_count": null,
   "metadata": {},
   "outputs": [],
   "source": [
    "# ex4\n",
    "def retorna_indice(valor: str, l: list) -> int:\n",
    "    for indice,  elem in enumerate(l):\n",
    "        if elem == valor:\n",
    "            return indice \n",
    "    return -1"
   ]
  },
  {
   "cell_type": "code",
   "execution_count": null,
   "metadata": {},
   "outputs": [],
   "source": [
    "# ex5\n",
    "def busca_elemento(valor: str, l: list) -> int:\n",
    "    qtd = 0\n",
    "    for elem in l:\n",
    "        if elem == valor:\n",
    "            qtd += 1\n",
    "    return qtd\n"
   ]
  },
  {
   "cell_type": "code",
   "execution_count": null,
   "metadata": {},
   "outputs": [],
   "source": [
    "# ex6\n",
    "def conta_inteiro(l: list) -> int:\n",
    "    qtd = 0\n",
    "    for elem in l:\n",
    "        if elem.isnumeric():\n",
    "            qtd += 1\n",
    "    return qtd"
   ]
  },
  {
   "cell_type": "code",
   "execution_count": null,
   "metadata": {},
   "outputs": [],
   "source": [
    "# ex7\n",
    "def conta_string(l: list) -> str:\n",
    "    qtd = 0\n",
    "    for elem in l:\n",
    "        if isinstance(elem, str):\n",
    "            qtd += 1\n",
    "    return qtd"
   ]
  },
  {
   "cell_type": "code",
   "execution_count": null,
   "metadata": {},
   "outputs": [],
   "source": [
    "# ex8\n",
    "def conta_boolean(l: list) -> bool:\n",
    "    qtd = 0\n",
    "    for elem in l:\n",
    "        if isinstance(elem, bool):\n",
    "            qtd += 1\n",
    "    return qtd"
   ]
  },
  {
   "cell_type": "code",
   "execution_count": null,
   "metadata": {},
   "outputs": [],
   "source": [
    "#9\n",
    "def conta_float(l: list) -> float:\n",
    "    qtd = 0\n",
    "    for elem in l:\n",
    "        if isinstance(elem, float):\n",
    "            qtd += 1\n",
    "    return qtd"
   ]
  },
  {
   "cell_type": "code",
   "execution_count": null,
   "metadata": {},
   "outputs": [],
   "source": [
    "#10\n",
    "def copia_int(lista1, lista2):\n",
    "    for elem in lista1:\n",
    "        if isinstance(elem, int):\n",
    "            lista2.append(int(elem))"
   ]
  },
  {
   "cell_type": "code",
   "execution_count": null,
   "metadata": {},
   "outputs": [],
   "source": [
    "lista = ['1', '2', '3', '4', '5']\n",
    "while True:\n",
    "    print(\"\"\"\n",
    "        0 - SAIR\n",
    "        1 - PREENCHER A LSITA\n",
    "        2 - EXIBIR A LISTA\n",
    "        3 - CONTAR ELEMENTOS\n",
    "        4 - RETORNA INDICE\n",
    "        5 - BUSCAR UM ELEMENTO\n",
    "        6 - QUANTIDADE DE ELEMENTOS INTEIROS NA LISTA\n",
    "        7 - QUANTIDADE DE ELEMENTOS STRINGS NA LISTA\n",
    "        8 - QUANTIDADE DE ELEMENTOS BOOLEANS NA LISTA\n",
    "        9 - QUANTIDADE DE ELEMENTOS FLOAT NA LISTA\n",
    "        10 - QUANTIDADE DE NÚMEROS INTEIROS CONVERTIDOS DA LISTA1 PARA LISTA2\n",
    "        \"\"\")\n",
    "    item = input(\"Digite um item => \")\n",
    "    match item:\n",
    "        case '0':\n",
    "            break\n",
    "        case '1':\n",
    "            lista.clear()\n",
    "            preenche_lista\n",
    "        case '2':\n",
    "            exibe_lista\n",
    "        case '3':\n",
    "            conta_elementos(lista)\n",
    "            print(f\"Total de elementos: \\nNutela..: {len(lista)}\\nRaiz....: {elementos}\")\n",
    "        case '4':\n",
    "            elem = input(\"Valor a ser procurado: \")\n",
    "            posicao = retorna_indice(elem, lista)\n",
    "            if retorna_indice(elem, lista) == -1:\n",
    "                print(f\"O elemento '{elem}' não existe na lista!\")\n",
    "            else:\n",
    "                print(f\"O elemento '{elem}' está na posição '{posicao}'!\")\n",
    "        case '5':\n",
    "            elem = input(f\"Valor a ser procurado: \")\n",
    "            print(f\"Há '{busca_elemento(elem, lista)}' ocorrencias do elemento '{elem}'!\")\n",
    "        case '6':\n",
    "            print(f\"Quantidade de elementos inteiros na lista: '{conta_inteiro(lista)}'\")"
   ]
  }
 ],
 "metadata": {
  "kernelspec": {
   "display_name": "Python 3",
   "language": "python",
   "name": "python3"
  },
  "language_info": {
   "codemirror_mode": {
    "name": "ipython",
    "version": 3
   },
   "file_extension": ".py",
   "mimetype": "text/x-python",
   "name": "python",
   "nbconvert_exporter": "python",
   "pygments_lexer": "ipython3",
   "version": "3.11.4"
  },
  "orig_nbformat": 4
 },
 "nbformat": 4,
 "nbformat_minor": 2
}
