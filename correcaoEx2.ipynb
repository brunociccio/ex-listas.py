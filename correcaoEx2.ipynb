{
 "cells": [
  {
   "cell_type": "markdown",
   "metadata": {},
   "source": [
    "1 - Faça um subalgoritmo que passe uma frase.\n",
    "2 - Faça um subalgoritmo que pegue uma frase e exiba cada palavra em uma linha\n",
    "3 - Dada uma lista preenchida com String, faça um subalgoritmo que retorne quanto destes elementos podem ser do tipo lógico (booleano)\n",
    "4 - Faça um subalgoritmo que retorne quantos elementos podem ser convertidos para inteiros\n",
    "5 - Faça um procedimento que analise a lista do tipo string e copie para uma lista2 do tipo int os valores inteiros da lista1"
   ]
  },
  {
   "cell_type": "code",
   "execution_count": null,
   "metadata": {},
   "outputs": [],
   "source": [
    "#ex1\n",
    "def acrescenta_ponto(f: str) -> str:\n",
    "    if f(-1) == '.';\n",
    "        return f\n",
    "    else:\n",
    "        f = f + '.'\n",
    "        return f\n",
    "    \n",
    "frase = \"Bom dia a todos que estão assistindo a aula.\"\n",
    "frase = acrescenta_ponto(frase)\n",
    "print(frase)"
   ]
  },
  {
   "cell_type": "code",
   "execution_count": null,
   "metadata": {},
   "outputs": [],
   "source": [
    "#ex2\n",
    "def quebrar_frase(f: str) -> list:\n",
    "    l = f.split()\n",
    "    return l\n",
    "\n",
    "def exibir_palavras(l: list) -> None:\n",
    "    for elem in l:\n",
    "        print(elem)\n",
    "        \n",
    "def contar_palavras(l: lits) -> int:\n",
    "    qtd = 0\n",
    "    for elem in l:\n",
    "        qtd += 1\n",
    "        return (l)\n",
    "\n",
    "frase = \"Bom dia todos!\"\n",
    "exibir_palavras(quebrar_frase(frase))\n",
    "print(\"quantidade de palabras: \", contar_palavras(quebrar_frase(frase)))"
   ]
  },
  {
   "cell_type": "code",
   "execution_count": null,
   "metadata": {},
   "outputs": [],
   "source": [
    "#3\n",
    "def contagem_logicos(l: list) -> int:\n",
    "    qtd = 0\n",
    "    for elem in l:\n",
    "        if elem in (\"False\", \"True\"):\n",
    "            qtd += 1\n",
    "    return qtd\n",
    "\n",
    "lista = [\"Edson\", \"49\", \"85.86\", \"False\"]\n",
    "quantidade = contagem_logicos(lista)\n",
    "print(quantidade)"
   ]
  },
  {
   "cell_type": "code",
   "execution_count": null,
   "metadata": {},
   "outputs": [],
   "source": [
    "#4\n",
    "def contagem_inteiro(l: list) -> int:\n",
    "    qtd = 0\n",
    "    for elem in l:\n",
    "        if elem.isnumeric():\n",
    "            qtd += 1\n",
    "    return qtd\n",
    "        \n",
    "    \n",
    "lista = [\"Edson\", \"49\", \"85.86\", \"False\"]\n",
    "quantidade = contagem_inteiro(lista)\n",
    "print(quantidade)"
   ]
  },
  {
   "cell_type": "code",
   "execution_count": null,
   "metadata": {},
   "outputs": [],
   "source": [
    "#5\n",
    "def copia_inteiros(l1: list, l2: list) -> None:\n",
    "    for elem in l1:\n",
    "        if elem.isnumeric():\n",
    "            l2.append(elem)\n",
    "            \n",
    "lista1 = [\"Edson\", \"49\", \"85.86\", \"False\", \"45\", \"43\"]\n",
    "lista2 = list()\n",
    "copia_inteiros(lista1, lista2)\n",
    "print(f\"Lista1 = {lista1}\")\n",
    "print(f\"Lista2 = {lista2}\")"
   ]
  }
 ],
 "metadata": {
  "kernelspec": {
   "display_name": "Python 3",
   "language": "python",
   "name": "python3"
  },
  "language_info": {
   "codemirror_mode": {
    "name": "ipython",
    "version": 3
   },
   "file_extension": ".py",
   "mimetype": "text/x-python",
   "name": "python",
   "nbconvert_exporter": "python",
   "pygments_lexer": "ipython3",
   "version": "3.11.4"
  },
  "orig_nbformat": 4
 },
 "nbformat": 4,
 "nbformat_minor": 2
}
