{
 "cells": [
  {
   "cell_type": "markdown",
   "metadata": {},
   "source": [
    "# Subalgoritmos\n",
    "\n",
    "## Utilização de parametros diferenciados\n",
    "\n",
    "### Parametros Default\n",
    "\n",
    "Utilizamos o parametro default toda vez que existir a possibilidade do programador não passara parametros. Ele assume um valor padrão.\n",
    "\n",
    "**Sintaxe:**\n",
    "\n",
    "```\n",
    "def nome_subalgoritmo(parametro = valor_padrao) -> Tipo_retorno:\n",
    "    corpo_subalgoritmo\n",
    "    [tipo_retorno]\n",
    "```\n",
    "\n",
    "```python\n",
    "def nome_subalgoritmo(parametro = valor_padrao) -> Tipo_retorno:\n",
    "    corpo_subalgoritmo\n",
    "    [tipo_retorno]\n",
    "```\n"
   ]
  },
  {
   "cell_type": "code",
   "execution_count": null,
   "metadata": {},
   "outputs": [],
   "source": [
    "def saudacao(msg: str = \"Bom dia\", nome: str = \"Usuário\") -> str:\n",
    "    print(f\"{msg} {nome}\")\n",
    "    \n",
    "saudacao(\"Bom dia\", \"Edson\")\n",
    "saudacao()\n",
    "saudacao(\"Boa noite\")\n",
    "saudacao(nome = \"Maria\")"
   ]
  },
  {
   "cell_type": "markdown",
   "metadata": {},
   "source": [
    "**Exercício**\n",
    "\n",
    "1. Criar um subalgoritimo que passe por parametro o nome do paciente e a hora de atendimento e exiba a mensagem: **'XXXXXX o seu atendimento será às 99horas'**<br>Os padrões serão 'Paciente' para o nome do paciente e 8horas para o horário;\n",
    "\n",
    "2. Criar uma função que passe 3 números por parametro e retorne o maior valor. Os valores padroes serao: 1, 2 e 3.\n"
   ]
  },
  {
   "cell_type": "code",
   "execution_count": null,
   "metadata": {},
   "outputs": [],
   "source": [
    "# exercicio 1\n",
    "def atendimento(msg: str = \"Bom dia\", nome: str = \"Paciente\", horario: str = \"seu atendimento será às 8 horas\") -> str:\n",
    "    print(f\"{msg} {nome} {horario}\")\n",
    "    \n",
    "atendimento()\n",
    "atendimento(nome = \"Bruno\")\n",
    "atendimento(msg = \"Boa noite\", nome = \"Joaquim\", horario = \"seu atendimento será as 14 horas\")"
   ]
  },
  {
   "cell_type": "code",
   "execution_count": null,
   "metadata": {},
   "outputs": [],
   "source": [
    "# exercicio 2\n",
    "def maio_numero(n1: int = 1, n2: int = 2, n3: int = 3) -> int:\n",
    "    maior = n1\n",
    "    if n2 > maior:\n",
    "        maior = n2\n",
    "    if n3 > maior:\n",
    "        maior = n3\n",
    "    return maior\n",
    "\n",
    "#chama função\n",
    "print(maio_numero(4,9,2))\n",
    "print(maio_numero())\n",
    "print(maio_numero(0))\n",
    "print(maio_numero(n2 = 67))"
   ]
  },
  {
   "cell_type": "code",
   "execution_count": null,
   "metadata": {},
   "outputs": [],
   "source": [
    "# aplicando *args na função:\n",
    "def soma_numeros2(*args) -> int: # args bira uma lista (tupla)\n",
    "    soma = 0\n",
    "    for valor in args:\n",
    "        soma = soma + valor\n",
    "    return soma\n",
    "#chama função\n",
    "print(soma_numeros2(4, 9, 99))\n",
    "print(soma_numeros2(44, 49))\n",
    "print(soma_numeros2(4, 9, 99, 7, 4, 3, 2, 4, 9))\n",
    "print(soma_numeros2())"
   ]
  },
  {
   "cell_type": "markdown",
   "metadata": {},
   "source": [
    "**Exercício Args**\n",
    "\n",
    "1. Crie uma função utilizando \\*atgs que pegue uma quantidade indefinida de numeroos e calcule a media.\n"
   ]
  },
  {
   "cell_type": "code",
   "execution_count": null,
   "metadata": {},
   "outputs": [],
   "source": [
    "def media_numeros(*args) -> int:\n",
    "    soma = 0\n",
    "    qtd = 0\n",
    "    for valor in args:\n",
    "        soma = soma + valor\n",
    "        qtd += 1\n",
    "    return soma / qtd\n",
    "#chama função\n",
    "print(media_numeros(4, 9, 99))\n",
    "print(media_numeros(44, 49))\n",
    "print(media_numeros(4, 9, 99, 7, 4, 3, 2, 4, 9))"
   ]
  },
  {
   "cell_type": "code",
   "execution_count": 2,
   "metadata": {},
   "outputs": [
    {
     "name": "stdout",
     "output_type": "stream",
     "text": [
      "6.5\n"
     ]
    }
   ],
   "source": [
    "# Exemplo - para calcularmos a kedia dos cps, alem de calcular a mmedia preciamos excluir a menor nota. \n",
    "# Problema primario: Calcular a media; Problema secundario: excluir o menor valor\n",
    "\n",
    "def media_cps(n1: float, n2: float, n3: float) -> float:\n",
    "    def menor_nota(n1: float, n2: float, n3: float) -> float:\n",
    "        menor = n1\n",
    "        if n2 < menor:\n",
    "            menor = n2\n",
    "        if n3 < menor:\n",
    "            menor = n3\n",
    "        return menor\n",
    "    media = ((n1 + n2 + n3) - menor_nota(n1, n2, n3)) /2\n",
    "    return media\n",
    "\n",
    "#chama função\n",
    "print(media_cps(5, 6, 7))"
   ]
  },
  {
   "cell_type": "code",
   "execution_count": 1,
   "metadata": {},
   "outputs": [
    {
     "name": "stdout",
     "output_type": "stream",
     "text": [
      "41.75\n"
     ]
    }
   ],
   "source": [
    "# Exercicio \n",
    "# Utilizando o contexto de encapsulamento, calcule a media simples de 4 numeros\n",
    "\n",
    "\n",
    "def soma_numeros(n1: float, n2: float, n3: float, n4: float) -> float:\n",
    "    def media_numeros(n1: float, n2: float, n3: float, n4: float) -> float:\n",
    "        soma = 0\n",
    "        qtd = 0\n",
    "        for valor in media_numeros:\n",
    "            soma = soma + valor\n",
    "            qtd += 1\n",
    "        return soma / qtd\n",
    "    media = ((n1 + n2 + n3 +n4)) /4\n",
    "    return media\n",
    "#chama função\n",
    "print(soma_numeros(4, 9, 99, 55))"
   ]
  }
 ],
 "metadata": {
  "kernelspec": {
   "display_name": "Python 3",
   "language": "python",
   "name": "python3"
  },
  "language_info": {
   "codemirror_mode": {
    "name": "ipython",
    "version": 3
   },
   "file_extension": ".py",
   "mimetype": "text/x-python",
   "name": "python",
   "nbconvert_exporter": "python",
   "pygments_lexer": "ipython3",
   "version": "3.11.4"
  },
  "orig_nbformat": 4
 },
 "nbformat": 4,
 "nbformat_minor": 2
}
