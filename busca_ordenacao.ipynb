{
 "cells": [
  {
   "cell_type": "markdown",
   "metadata": {},
   "source": [
    "## Método de pesquisa Sequencial\n",
    "Procura o valor desde o primeiro elemento até encontrá-lo ou não."
   ]
  },
  {
   "cell_type": "code",
   "execution_count": 1,
   "metadata": {},
   "outputs": [
    {
     "name": "stdout",
     "output_type": "stream",
     "text": [
      "Encontrou o valor 12!\n",
      "[12, 14, 22, 33, 34, 55, 67, 76, 89, 99]\n"
     ]
    }
   ],
   "source": [
    "# lista qualquer para exemplificar\n",
    "lista = [34,76,67,12,89,55,33,22,99,14]\n",
    "\n",
    "valor = 12\n",
    "achou = False\n",
    "for elem in lista:\n",
    "    if elem == valor:\n",
    "        achou = True\n",
    "        break\n",
    "if achou:\n",
    "    print(f\"Encontrou o valor {valor}!\")\n",
    "else:\n",
    "    print(f\"Não encontrou o valor {valor}!\")\n",
    "    \n",
    "lista.sort()\n",
    "print(lista)\n"
   ]
  },
  {
   "cell_type": "markdown",
   "metadata": {},
   "source": [
    "## Ordenação de lista\n"
   ]
  },
  {
   "cell_type": "code",
   "execution_count": null,
   "metadata": {},
   "outputs": [],
   "source": [
    "# lista qualquer para exemplificar\n",
    "lista = [34,76,67,12,89,55,33,22,99,14]\n",
    "print(\"Embaralhada: \", lista)\n",
    "lista.sort()\n",
    "print(\"\")\n",
    "# rotina que ordena\n",
    "for travar in range(0, len(lista) -2, 1)\n",
    "    for proximo in range(travar +1, len(lista) -1, 1)\n",
    "    if lista[travar] > lista[proximo]:\n",
    "        # trocar lista[0] > lista[1]\n",
    "        auxiliar = lista[travar]\n",
    "        lista[travar] = lista[proximo]\n",
    "        lista[proximo] = auxiliar\n",
    "# exibição da lista ordenada\n",
    "print(lista)"
   ]
  },
  {
   "cell_type": "markdown",
   "metadata": {},
   "source": [
    "## Método de pesquisa Binária"
   ]
  }
 ],
 "metadata": {
  "kernelspec": {
   "display_name": "Python 3",
   "language": "python",
   "name": "python3"
  },
  "language_info": {
   "codemirror_mode": {
    "name": "ipython",
    "version": 3
   },
   "file_extension": ".py",
   "mimetype": "text/x-python",
   "name": "python",
   "nbconvert_exporter": "python",
   "pygments_lexer": "ipython3",
   "version": "3.11.4"
  },
  "orig_nbformat": 4
 },
 "nbformat": 4,
 "nbformat_minor": 2
}
