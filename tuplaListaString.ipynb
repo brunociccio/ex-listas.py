{
 "cells": [
  {
   "cell_type": "markdown",
   "metadata": {},
   "source": [
    "## Tupla\n",
    "\n",
    "1. Estrutura de dados semelhantes a lista, a diferença está no fato de que a tupla não tem o seu valor iterável (mutável). \n",
    "OS valores de uma tupla são delimitados entre paranteses.\n",
    "\n",
    "## Manipulação e fatiamento de Listas | Tuplas | Strings\n",
    "\n",
    "2. Fatiar um objeto é trabalhar com parte dele. \n",
    "**Sintaxe:**\n",
    "```\n",
    "objeto[inicio, fim, passo]\n",
    "```\n",
    "> Onde o inicio é o primeiro elemento e o fim o último\n",
    "**fim** não o inclui\n",
    "\n",
    "**Exemplos**: (2)\n",
    "\n",
    "## Fatiando Strings\n",
    "\n",
    "3. String nada mais é do que uma lista de caracteres, assim, podemos referenciar cada elemento.\n",
    "\n",
    "## Método: find()\n",
    "\n",
    "4. Este método procura um trecho de string em uma outra maior, caso encontre, retorna o indice de inicio da primeira localizacao, se nao encontrar,\n",
    "retorna -1\n",
    "\n",
    "## Método: join(lista_string)\n",
    "\n",
    "5. O metodo join() pega uma lista contendo elementos strings e transforma em apenas uma string. Em outras palavras, este metodo junta strings\n",
    "\n",
    "## Método: split(string_separadora)\n",
    "\n",
    "6. O metodo split() pega uma lista contendo elementos strings e separa todos os elementos.\n",
    "\n",
    "## Método: replace(procura, troca, cont)\n",
    "\n",
    "7. Este metodo substitui em uma string uma substring especificada por outra 'cont' vezes solicitada.\n",
    "\n",
    "## Método: strip()\n",
    "\n",
    "8. Este metodo elimina os eventuais espaços que existirem no inicio e final da string\n",
    "\n",
    "## Operador de identidade 'in'\n",
    "\n",
    "9. O operador in retorna True caso o valor comparado esteja contido em uma lista ou False caso não esteja."
   ]
  },
  {
   "cell_type": "code",
   "execution_count": null,
   "metadata": {},
   "outputs": [],
   "source": [
    "#1\n",
    "lista = list()\n",
    "tupla = tuple()\n",
    "lista = [1,2,3,4,5]\n",
    "tupla = (1,2,3,4,5)\n",
    "print (\"lista\", lista)\n",
    "print(\"tupla\", tupla)\n",
    "print(lista[3])\n",
    "print(tupla[3])"
   ]
  },
  {
   "cell_type": "code",
   "execution_count": null,
   "metadata": {},
   "outputs": [],
   "source": [
    "#2        -10 -9 -8 -7 -6 -5 -4 -3 -2 -1\n",
    "#           0  1  2  3  4  5  6  7  8  9\n",
    "numeros = [10,20,30,40,50,60,70,80,90,100]\n",
    "print(\"Lista = \", numeros)\n",
    "print(numeros[3:8])\n",
    "numeros_new = numeros[4:7]\n",
    "print(numeros_new)\n",
    "print(numeros[-1]) # o -1 é referente ao último item da lista (indice), -2,-3,-4 e assim por diante\n",
    "print(numeros_new[-5:-1])\n",
    "print(numeros[0:9:2]) # do indice 0 ao 9 pulando de 2 em 2"
   ]
  },
  {
   "cell_type": "code",
   "execution_count": null,
   "metadata": {},
   "outputs": [],
   "source": [
    "#3       01234 56789...\n",
    "frase = \"Agora veremos como o fatiamento funciona com strings\"\n",
    "print(\"1. \" + frase)\n",
    "print(\"2. \" + frase[3])\n",
    "print(\"3. \" + frase[5:20])\n",
    "print(\"4. \" + frase[0:-1])\n",
    "print(\"5. \" + frase[0:])\n",
    "print(\"6. \" + frase[::3])\n",
    "print(\"7. \" + frase[::-1]) #exibir em ordem invertida (o valor -1 mostra invertido sem pular nenhum caractere)\n",
    "print(\"8. \" + frase[::-4]) #exiber em ordem invertida pulando de 4 em 4"
   ]
  },
  {
   "cell_type": "code",
   "execution_count": null,
   "metadata": {},
   "outputs": [],
   "source": [
    "#4\n",
    "frase = \"Veremos agora os metodos de manipulação de strings\"\n",
    "print(frase.find(\"agora\")) #pesquisa a palabra 'agora' na frase\n",
    "print(frase.find(\"m\")) #pesquia a primeira letra 'm' na frase\n",
    "print(frase.find(\"listas\")) #pesquisa uma palabra que não existe na frase\n",
    "print(frase.find(\"m\",10,20)) #pesquise a letra 'm' no intervalo entre 10 e 20 (intervalo)\n"
   ]
  },
  {
   "cell_type": "code",
   "execution_count": null,
   "metadata": {},
   "outputs": [],
   "source": [
    "#5\n",
    "nome = [\"Edson\", \"de\", \"Oliveira\"]\n",
    "print(\" \".join(nome)) #cria uma string com a lista separando por espaço\n",
    "print(\"-\".join(nome)) #cria uma string com a lista separando com '-'\n",
    "print(\",\".join(nome)) #cria uma string com a lista separando com ','"
   ]
  },
  {
   "cell_type": "code",
   "execution_count": null,
   "metadata": {},
   "outputs": [],
   "source": [
    "#6\n",
    "nome = \"Edson de Oliveira\"\n",
    "print(nome.split()) # tornou a string em uma lista separada por espaço (quando o parantese está vazio o parametro é espaçamento)\n",
    "print(nome.split('e')) # tornou a string em uma lista separada por 'e'\n",
    "print(nome.split('de'))# tornou a string em uma lista separada por 'de'\n"
   ]
  },
  {
   "cell_type": "code",
   "execution_count": null,
   "metadata": {},
   "outputs": [],
   "source": [
    "#7\n",
    "nome = \"Edson de Oliveira\"\n",
    "nome_new1 = nome.replace('e', 'E')\n",
    "print(nome_new1)\n",
    "nome_new2 = nome.replace('de', 'DE')\n",
    "print(nome_new2)\n",
    "nome_new3 = nome.replace(' ', '_')\n",
    "print(nome_new3)\n"
   ]
  },
  {
   "cell_type": "code",
   "execution_count": null,
   "metadata": {},
   "outputs": [],
   "source": [
    "#8\n",
    "texto = \"    Strip elimina os espaços    \"\n",
    "tamanho_texto = len(texto)\n",
    "print(f\"O texto '{texto}' tem o tamanho: {tamanho_texto}.\")\n",
    "texto = texto.strip()\n",
    "tamanho_texto_strip = len(texto)\n",
    "print(f\"O texto '{texto}' tem o tamanho: {tamanho_texto_strip}.\")"
   ]
  },
  {
   "cell_type": "code",
   "execution_count": null,
   "metadata": {},
   "outputs": [],
   "source": [
    "#9 \n",
    "num = 3\n",
    "if num == 1 or num == 2 ou num == 3 or num == 4 or num == 5:\n",
    "    \n",
    "if num in [1,2,3,4,5]:\n",
    "    print(f\"'{num}' está na lista\")\n",
    "else\n",
    "    print(f\"'{num}' Não está na lista\")"
   ]
  },
  {
   "cell_type": "markdown",
   "metadata": {},
   "source": [
    "## Exercício 1\n",
    "Faça uma função qie retorne quantas letras 'a' ou 'A' existem em uma frase passada por parametro.\n",
    "**Escopo:**\n",
    "```\n",
    "quantidade_a = conta_a_A(frase)\n",
    "print(\"Quantidade de A: \", quantidade_a, \" na frase:\", frase)\n",
    "```"
   ]
  },
  {
   "cell_type": "code",
   "execution_count": null,
   "metadata": {},
   "outputs": [],
   "source": [
    "#Ex1\n",
    "def conta_a_A(texto: str) -> int:\n",
    "    cont = 0\n",
    "    for letra in texto:\n",
    "        if letra == 'a' or letra == 'A':\n",
    "            cont += 1\n",
    "    return cont\n",
    "\n",
    "# chama função\n",
    "quantidade_a = conta_a_A(\"Amanhã é sábado\")\n",
    "print(f\"A frase 'amanha é sabado' tem '{quantidade_a}' letras 'A'\")\n"
   ]
  }
 ],
 "metadata": {
  "kernelspec": {
   "display_name": "Python 3",
   "language": "python",
   "name": "python3"
  },
  "language_info": {
   "codemirror_mode": {
    "name": "ipython",
    "version": 3
   },
   "file_extension": ".py",
   "mimetype": "text/x-python",
   "name": "python",
   "nbconvert_exporter": "python",
   "pygments_lexer": "ipython3",
   "version": "3.11.4"
  },
  "orig_nbformat": 4
 },
 "nbformat": 4,
 "nbformat_minor": 2
}
