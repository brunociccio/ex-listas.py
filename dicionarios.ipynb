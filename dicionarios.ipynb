{
 "cells": [
  {
   "cell_type": "markdown",
   "metadata": {},
   "source": [
    "### Dicionário\n",
    "Dicionários são estrturas de dados compostas por keys (campos) e values (valores - conteúdo). Em dicionários, todos os valores são delimitados entre chaves e as keys são separadas dos valores com dois pontos(:)."
   ]
  },
  {
   "cell_type": "markdown",
   "metadata": {},
   "source": [
    "#### Criando um dicionário vazio"
   ]
  },
  {
   "cell_type": "code",
   "execution_count": null,
   "metadata": {},
   "outputs": [],
   "source": [
    "dados = dict()\n",
    "# ou\n",
    "dados = {}\n",
    "print(dados)"
   ]
  },
  {
   "cell_type": "markdown",
   "metadata": {},
   "source": [
    "#### Criando um dicionário com valores iniciais"
   ]
  },
  {
   "cell_type": "code",
   "execution_count": 4,
   "metadata": {},
   "outputs": [
    {
     "name": "stdout",
     "output_type": "stream",
     "text": [
      "{'nome': 'Edson de Oliveira', 'idade': 49}\n"
     ]
    }
   ],
   "source": [
    "dados = {\n",
    "    'nome': 'Edson de Oliveira',\n",
    "    'idade': 49,\n",
    "}\n",
    "\n",
    "print(dados)"
   ]
  },
  {
   "cell_type": "code",
   "execution_count": 7,
   "metadata": {},
   "outputs": [
    {
     "name": "stdout",
     "output_type": "stream",
     "text": [
      "{'nome': 'Edson de Oliveira', 'idade': 49}\n",
      "{'nome': 'Edson de Oliveira', 'idade': 49, 'email': 'eds@hotmail.com', 'endereço': 'Rua X'}\n"
     ]
    }
   ],
   "source": [
    "# Acrescentando um campo:\n",
    "# exibindo o estado atual do dicionário\n",
    "print(dados)\n",
    "dados['email'] = 'eds@hotmail.com'\n",
    "dados['endereço'] = 'Rua X'\n",
    "print(dados)"
   ]
  },
  {
   "cell_type": "code",
   "execution_count": null,
   "metadata": {},
   "outputs": [],
   "source": [
    "# Removendo um campo:\n",
    "print(dados)\n",
    "del dados['endereço']\n",
    "print(dados0)"
   ]
  },
  {
   "cell_type": "code",
   "execution_count": 5,
   "metadata": {},
   "outputs": [
    {
     "name": "stdout",
     "output_type": "stream",
     "text": [
      "Edson de Oliveira\n",
      "49\n",
      "eds@hotmail.com\n",
      "\n",
      "    Nome.....: Edson de Oliveira\n",
      "    Idade....: 49\n",
      "    Email....: eds@hotmail.com   \n",
      "\n"
     ]
    }
   ],
   "source": [
    "# Exibindo o conteúdo do dicionário(campos | keys e valores | values):\n",
    "print(dados['nome'])\n",
    "print(dados['idade'])\n",
    "print(dados['email'])\n",
    "# ou\n",
    "print(f\"\"\"\n",
    "    Nome.....: {dados['nome']}\n",
    "    Idade....: {dados['idade']}\n",
    "    Email....: {dados['email']}   \n",
    "\"\"\")"
   ]
  },
  {
   "cell_type": "markdown",
   "metadata": {},
   "source": [
    "### Métodos relacionados a dicionários\n",
    "#### values()\n",
    "O método values mostra todos os valores contidos em um dicionário"
   ]
  },
  {
   "cell_type": "code",
   "execution_count": 8,
   "metadata": {},
   "outputs": [
    {
     "name": "stdout",
     "output_type": "stream",
     "text": [
      "dict_values(['Edson de Oliveira', 49, 'eds@hotmail.com', 'Rua X'])\n",
      "['Edson de Oliveira', 49, 'eds@hotmail.com', 'Rua X']\n",
      "Edson de Oliveira\n"
     ]
    }
   ],
   "source": [
    "print(dados.values())\n",
    "lista = list(dados.values())\n",
    "print(lista)\n",
    "print(lista[0])"
   ]
  },
  {
   "cell_type": "markdown",
   "metadata": {},
   "source": [
    "#### keys()\n",
    "O método keys mostra todos os campos contidos em um dicionário"
   ]
  },
  {
   "cell_type": "code",
   "execution_count": 9,
   "metadata": {},
   "outputs": [
    {
     "name": "stdout",
     "output_type": "stream",
     "text": [
      "['nome', 'idade', 'email', 'endereço']\n",
      "idade\n"
     ]
    }
   ],
   "source": [
    "lista_campos = list(dados.keys())\n",
    "# exibindo todas as keys do dicionário\n",
    "print(lista_campos)\n",
    "# exibindo somente o nome do segundo campo\n",
    "print(lista_campos[1])"
   ]
  },
  {
   "cell_type": "markdown",
   "metadata": {},
   "source": [
    "#### items()\n",
    "O método items retorna tanto os campos (keys) quanto os valores (values)"
   ]
  },
  {
   "cell_type": "code",
   "execution_count": 11,
   "metadata": {},
   "outputs": [
    {
     "name": "stdout",
     "output_type": "stream",
     "text": [
      "dict_items([('nome', 'Edson de Oliveira'), ('idade', 49), ('email', 'eds@hotmail.com'), ('endereço', 'Rua X')])\n",
      "{'nome': 'Edson de Oliveira', 'idade': 49, 'email': 'eds@hotmail.com', 'endereço': 'Rua X'}\n"
     ]
    }
   ],
   "source": [
    "print(dados.items())\n",
    "print(dados)"
   ]
  },
  {
   "cell_type": "code",
   "execution_count": 28,
   "metadata": {},
   "outputs": [
    {
     "name": "stdout",
     "output_type": "stream",
     "text": [
      "{'nome': 'Edson de Oliveira', 'idade': 49, 'email': 'eds@hotmail.com', 'endereço': 'Rua X'}\n",
      "\n",
      "    Nome.....: Edson de Oliveira\n",
      "    Idade....: 49\n",
      "    Email....: eds@hotmail.com   \n",
      "\n",
      "O campo 'nome' tem o conteúdo 'Edson de Oliveira'\n",
      "O campo 'idade' tem o conteúdo '49'\n",
      "O campo 'email' tem o conteúdo 'eds@hotmail.com'\n",
      "O campo 'endereço' tem o conteúdo 'Rua X'\n",
      "\n",
      "\n",
      "    nome.....: Edson de Oliveira\n",
      "\n",
      "\n",
      "    idade.....: 49\n",
      "\n",
      "\n",
      "    email.....: eds@hotmail.com\n",
      "\n",
      "\n",
      "    endereço.....: Rua X\n",
      "\n"
     ]
    }
   ],
   "source": [
    "# Exemplos\n",
    "# exibindo o dicionário de forma bruta\n",
    "print(dados)\n",
    "# exibindo elemento a elemento\n",
    "print(f\"\"\"\n",
    "    Nome.....: {dados['nome']}\n",
    "    Idade....: {dados['idade']}\n",
    "    Email....: {dados['email']}   \n",
    "\"\"\")\n",
    "# exibindo o dicionário capturando todos os dados\n",
    "for keys, values in dados.items():\n",
    "    print(f\"O campo '{keys}' tem o conteúdo '{values}'\")\n",
    "    \n",
    "print()\n",
    "for keys, values in dados.items():\n",
    "    print(f\"\"\"\n",
    "    {keys}.....: {values}\n",
    "\"\"\")"
   ]
  },
  {
   "cell_type": "markdown",
   "metadata": {},
   "source": [
    "### Exercícios\n",
    "Crie um dicionário com 5 campos a sua escolha(preferencialmente use tipos diferentes) e faça as seguintes operações:\n",
    "1 - Exibir todo o conteúdo do dicionário\n",
    "2 - Inserir um campo no dicionário\n",
    "3 - Alterar o calor de um campo\n",
    "4 - Exibir um campo específico\n",
    "5 - Remover um campo epecífico\n",
    "\n",
    "Depois de concluir cada exercício, crie um menu( semelhante à exposição acima) que trate as operações em que o usuário possa inputar os dados"
   ]
  },
  {
   "cell_type": "code",
   "execution_count": 25,
   "metadata": {},
   "outputs": [
    {
     "name": "stdout",
     "output_type": "stream",
     "text": [
      "\n",
      "    Nome.......: Bruno De Ciccio\n",
      "    Idade......: 33\n",
      "    Email......: dev.bruno.ciccio@icloud.com\n",
      "    Endereço...: Rua Voluntários da PAtria, 546\n",
      "    Profissão..: Desenvolvedor Back-End\n",
      "\n",
      "{'nome': 'Bruno De Ciccio', 'idade': 33, 'email': 'dev.bruno.ciccio@icloud.com', 'endereço': 'Rua Voluntários da PAtria, 546', 'profissão': 'Desenvolvedor Back-End', 'RG': '34714331-3'}\n",
      "dict_values(['Bruno De Ciccio', 33, 'dev.bruno.ciccio@icloud.com', 'Rua Voluntários da PAtria, 546', 'Desenvolvedor Back-End', '34714331-3'])\n",
      "['Bruno De Ciccio', 33, 'dev.bruno.ciccio@icloud.com', 'Rua Voluntários da PAtria, 546', 'Desenvolvedor Back-End', '34714331-3']\n",
      "33\n",
      "{'nome': 'Bruno De Ciccio', 'idade': 33, 'email': 'dev.bruno.ciccio@icloud.com', 'endereço': 'Rua Voluntários da PAtria, 546', 'RG': '34714331-3'}\n"
     ]
    }
   ],
   "source": [
    "dicio = {\n",
    "    'nome': 'Bruno De Ciccio',\n",
    "    'idade': 33,\n",
    "    'email': 'dev.bruno.ciccio@icloud.com',\n",
    "    'endereço': 'Rua Voluntários da PAtria, 546',\n",
    "    'profissão': 'Desenvolvedor Back-End',\n",
    "}\n",
    "\n",
    "# 1 - Exibir\n",
    "print(f\"\"\"\n",
    "    Nome.......: {dicio['nome']}\n",
    "    Idade......: {dicio['idade']}\n",
    "    Email......: {dicio['email']}\n",
    "    Endereço...: {dicio['endereço']}\n",
    "    Profissão..: {dicio['profissão']}\n",
    "\"\"\")\n",
    "\n",
    "# 2 - Inserir\n",
    "dicio['RG'] = '34714331-3'\n",
    "print(dicio)\n",
    "\n",
    "# 3 - Alterar\n",
    "print(dicio.values())\n",
    "lista = list(dicio.values())\n",
    "print(lista)\n",
    "\n",
    "# 4 - Exibir um campo específico\n",
    "print(lista[1])\n",
    "\n",
    "# 5\n",
    "del dicio['profissão']\n",
    "print(dicio)\n"
   ]
  },
  {
   "cell_type": "code",
   "execution_count": 8,
   "metadata": {},
   "outputs": [
    {
     "name": "stdout",
     "output_type": "stream",
     "text": [
      "\n",
      "            MENU\n",
      "            0 - SAIR\n",
      "            1 - EXIBIR LISTA\n",
      "            2 - INSERIR UM ITEM DA LISTA\n",
      "            3 - ALTERAR UM ITEM DA LISTA\n",
      "            4 - EXIBIR UM CAMPO ESPECÍFICO DA LISTA\n",
      "            5 - DELETAR UM ITEM DA LISTA\n",
      "            \n",
      "\n",
      "1 - Exibir minha Lista\n",
      "nome.............: Bruno De Ciccio\n",
      "idade.............: 33\n",
      "email.............: dev.bruno.ciccio@icloud.com\n",
      "endereço.............: Rua Voluntários da PAtria, 546\n",
      "profissão.............: Desenvolvedor Back-End\n",
      "\n",
      "            MENU\n",
      "            0 - SAIR\n",
      "            1 - EXIBIR LISTA\n",
      "            2 - INSERIR UM ITEM DA LISTA\n",
      "            3 - ALTERAR UM ITEM DA LISTA\n",
      "            4 - EXIBIR UM CAMPO ESPECÍFICO DA LISTA\n",
      "            5 - DELETAR UM ITEM DA LISTA\n",
      "            \n",
      "Encerrando o programa.\n"
     ]
    }
   ],
   "source": [
    "def exibir_dicionario(dicionario):\n",
    "    for keys, values in dicionario.items():\n",
    "        print(f\"\"\"{keys}.............: {values}\"\"\")\n",
    "\n",
    "meu_dicionario = {\n",
    "    'nome': 'Bruno De Ciccio',\n",
    "    'idade': 33,\n",
    "    'email': 'dev.bruno.ciccio@icloud.com',\n",
    "    'endereço': 'Rua Voluntários da PAtria, 546',\n",
    "    'profissão': 'Desenvolvedor Back-End',\n",
    "}\n",
    "\n",
    "def inserir_item():\n",
    "\n",
    "def rodar_sistema():\n",
    "    while True:\n",
    "        print(f\"\"\"\n",
    "            MENU\n",
    "            0 - SAIR\n",
    "            1 - EXIBIR LISTA\n",
    "            2 - INSERIR UM ITEM DA LISTA\n",
    "            3 - ALTERAR UM ITEM DA LISTA\n",
    "            4 - EXIBIR UM CAMPO ESPECÍFICO DA LISTA\n",
    "            5 - DELETAR UM ITEM DA LISTA\n",
    "            \"\"\")\n",
    "        opcao = input(\"Opção: \")\n",
    "        \n",
    "        if opcao == '0':\n",
    "            print(\"Encerrando o programa.\")\n",
    "            break\n",
    "        elif opcao == '1':\n",
    "            print(\"\\n1 - Exibir minha Lista\")\n",
    "            #exibir lista completa\n",
    "            exibir_dicionario(meu_dicionario)\n",
    "            \n",
    "            \n",
    "        elif opcao == '2':\n",
    "            print(\"\\n2 - Inserir um item na Lista\")\n",
    "            texto = input(\"Insira um campo na lista: \")\n",
    "            #inserir\n",
    "            \n",
    "        elif opcao == '3':\n",
    "            print(\"\\n3 - Alterar um item na lista\")\n",
    "            texto = input(\"Informe qual item da lista você gostaria de alterar: \")\n",
    "            #alterar\n",
    "            \n",
    "        elif opcao == '4':\n",
    "            print(\"\\n - Exibir um campo específico da lista\")\n",
    "            texto = input(\"Informe qual item da lista você gostaria de exibir: \")\n",
    "            #exibir específico\n",
    "            \n",
    "        elif opcao == '5':\n",
    "            print(\"\\n - Deletar um item da lista\")\n",
    "            texto = input(\"Informe qual item da lista você gostaria de deletar: \")\n",
    "            #deletar\n",
    "            \n",
    "rodar_sistema()\n",
    "\n",
    "\n",
    "\n",
    "\n",
    "\n"
   ]
  }
 ],
 "metadata": {
  "kernelspec": {
   "display_name": "Python 3",
   "language": "python",
   "name": "python3"
  },
  "language_info": {
   "codemirror_mode": {
    "name": "ipython",
    "version": 3
   },
   "file_extension": ".py",
   "mimetype": "text/x-python",
   "name": "python",
   "nbconvert_exporter": "python",
   "pygments_lexer": "ipython3",
   "version": "3.11.4"
  },
  "orig_nbformat": 4
 },
 "nbformat": 4,
 "nbformat_minor": 2
}
